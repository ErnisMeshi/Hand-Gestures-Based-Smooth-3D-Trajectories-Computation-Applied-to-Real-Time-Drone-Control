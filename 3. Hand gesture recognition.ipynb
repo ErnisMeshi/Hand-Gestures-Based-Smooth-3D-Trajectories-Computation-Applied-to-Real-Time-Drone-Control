{
 "cells": [
  {
   "cell_type": "markdown",
   "metadata": {},
   "source": [
    "# 1. Import Dependencies"
   ]
  },
  {
   "cell_type": "code",
   "execution_count": 1,
   "metadata": {},
   "outputs": [],
   "source": [
    "import tensorflow as tf\n",
    "import pandas as pd"
   ]
  },
  {
   "cell_type": "markdown",
   "metadata": {},
   "source": [
    "## Dataset\n",
    "This specific dataset seperates flowers into 3 different classes of species.\n",
    "\n",
    "- Setosa\n",
    "- Versicolor\n",
    "- Virginica\n",
    "\n",
    "The information about each flower is the following.\n",
    "\n",
    "- sepal length\n",
    "- sepal width\n",
    "- petal length\n",
    "- petal width"
   ]
  },
  {
   "cell_type": "code",
   "execution_count": 2,
   "metadata": {},
   "outputs": [],
   "source": [
    "CSV_COLUMN_NAMES = ['SepalLength', 'SepalWidth', 'PetalLength', 'PetalWidth', 'Species']\n",
    "SPECIES = ['Setosa', 'Versicolor', 'Virginica']\n",
    "# Lets define some constants to help us later on"
   ]
  },
  {
   "cell_type": "code",
   "execution_count": 3,
   "metadata": {},
   "outputs": [
    {
     "name": "stdout",
     "output_type": "stream",
     "text": [
      "Downloading data from https://storage.googleapis.com/download.tensorflow.org/data/iris_training.csv\n",
      "16384/2194 [================================================================================================================================================================================================================================] - 0s 0s/step\n",
      "Downloading data from https://storage.googleapis.com/download.tensorflow.org/data/iris_test.csv\n",
      "16384/573 [=========================================================================================================================================================================================================================================================================================================================================================================================================================================================================================================================================================================================================================================================================================================================================================================================================================================================================================] - 0s 0s/step\n"
     ]
    }
   ],
   "source": [
    "train_path = tf.keras.utils.get_file(\n",
    "    \"iris_training.csv\", \"https://storage.googleapis.com/download.tensorflow.org/data/iris_training.csv\")\n",
    "test_path = tf.keras.utils.get_file(\n",
    "    \"iris_test.csv\", \"https://storage.googleapis.com/download.tensorflow.org/data/iris_test.csv\")\n",
    "\n",
    "train = pd.read_csv(train_path, names=CSV_COLUMN_NAMES, header=0)\n",
    "test = pd.read_csv(test_path, names=CSV_COLUMN_NAMES, header=0)\n",
    "# Here we use keras (a module inside of TensorFlow) to grab our datasets and read them into a pandas dataframe"
   ]
  },
  {
   "cell_type": "code",
   "execution_count": 4,
   "metadata": {},
   "outputs": [
    {
     "data": {
      "text/html": [
       "<div>\n",
       "<style scoped>\n",
       "    .dataframe tbody tr th:only-of-type {\n",
       "        vertical-align: middle;\n",
       "    }\n",
       "\n",
       "    .dataframe tbody tr th {\n",
       "        vertical-align: top;\n",
       "    }\n",
       "\n",
       "    .dataframe thead th {\n",
       "        text-align: right;\n",
       "    }\n",
       "</style>\n",
       "<table border=\"1\" class=\"dataframe\">\n",
       "  <thead>\n",
       "    <tr style=\"text-align: right;\">\n",
       "      <th></th>\n",
       "      <th>SepalLength</th>\n",
       "      <th>SepalWidth</th>\n",
       "      <th>PetalLength</th>\n",
       "      <th>PetalWidth</th>\n",
       "      <th>Species</th>\n",
       "    </tr>\n",
       "  </thead>\n",
       "  <tbody>\n",
       "    <tr>\n",
       "      <th>0</th>\n",
       "      <td>6.4</td>\n",
       "      <td>2.8</td>\n",
       "      <td>5.6</td>\n",
       "      <td>2.2</td>\n",
       "      <td>2</td>\n",
       "    </tr>\n",
       "    <tr>\n",
       "      <th>1</th>\n",
       "      <td>5.0</td>\n",
       "      <td>2.3</td>\n",
       "      <td>3.3</td>\n",
       "      <td>1.0</td>\n",
       "      <td>1</td>\n",
       "    </tr>\n",
       "    <tr>\n",
       "      <th>2</th>\n",
       "      <td>4.9</td>\n",
       "      <td>2.5</td>\n",
       "      <td>4.5</td>\n",
       "      <td>1.7</td>\n",
       "      <td>2</td>\n",
       "    </tr>\n",
       "    <tr>\n",
       "      <th>3</th>\n",
       "      <td>4.9</td>\n",
       "      <td>3.1</td>\n",
       "      <td>1.5</td>\n",
       "      <td>0.1</td>\n",
       "      <td>0</td>\n",
       "    </tr>\n",
       "    <tr>\n",
       "      <th>4</th>\n",
       "      <td>5.7</td>\n",
       "      <td>3.8</td>\n",
       "      <td>1.7</td>\n",
       "      <td>0.3</td>\n",
       "      <td>0</td>\n",
       "    </tr>\n",
       "  </tbody>\n",
       "</table>\n",
       "</div>"
      ],
      "text/plain": [
       "   SepalLength  SepalWidth  PetalLength  PetalWidth  Species\n",
       "0          6.4         2.8          5.6         2.2        2\n",
       "1          5.0         2.3          3.3         1.0        1\n",
       "2          4.9         2.5          4.5         1.7        2\n",
       "3          4.9         3.1          1.5         0.1        0\n",
       "4          5.7         3.8          1.7         0.3        0"
      ]
     },
     "execution_count": 4,
     "metadata": {},
     "output_type": "execute_result"
    }
   ],
   "source": [
    "train.head()"
   ]
  },
  {
   "cell_type": "code",
   "execution_count": 6,
   "metadata": {},
   "outputs": [
    {
     "data": {
      "text/html": [
       "<div>\n",
       "<style scoped>\n",
       "    .dataframe tbody tr th:only-of-type {\n",
       "        vertical-align: middle;\n",
       "    }\n",
       "\n",
       "    .dataframe tbody tr th {\n",
       "        vertical-align: top;\n",
       "    }\n",
       "\n",
       "    .dataframe thead th {\n",
       "        text-align: right;\n",
       "    }\n",
       "</style>\n",
       "<table border=\"1\" class=\"dataframe\">\n",
       "  <thead>\n",
       "    <tr style=\"text-align: right;\">\n",
       "      <th></th>\n",
       "      <th>SepalLength</th>\n",
       "      <th>SepalWidth</th>\n",
       "      <th>PetalLength</th>\n",
       "      <th>PetalWidth</th>\n",
       "    </tr>\n",
       "  </thead>\n",
       "  <tbody>\n",
       "    <tr>\n",
       "      <th>0</th>\n",
       "      <td>6.4</td>\n",
       "      <td>2.8</td>\n",
       "      <td>5.6</td>\n",
       "      <td>2.2</td>\n",
       "    </tr>\n",
       "    <tr>\n",
       "      <th>1</th>\n",
       "      <td>5.0</td>\n",
       "      <td>2.3</td>\n",
       "      <td>3.3</td>\n",
       "      <td>1.0</td>\n",
       "    </tr>\n",
       "    <tr>\n",
       "      <th>2</th>\n",
       "      <td>4.9</td>\n",
       "      <td>2.5</td>\n",
       "      <td>4.5</td>\n",
       "      <td>1.7</td>\n",
       "    </tr>\n",
       "    <tr>\n",
       "      <th>3</th>\n",
       "      <td>4.9</td>\n",
       "      <td>3.1</td>\n",
       "      <td>1.5</td>\n",
       "      <td>0.1</td>\n",
       "    </tr>\n",
       "    <tr>\n",
       "      <th>4</th>\n",
       "      <td>5.7</td>\n",
       "      <td>3.8</td>\n",
       "      <td>1.7</td>\n",
       "      <td>0.3</td>\n",
       "    </tr>\n",
       "  </tbody>\n",
       "</table>\n",
       "</div>"
      ],
      "text/plain": [
       "   SepalLength  SepalWidth  PetalLength  PetalWidth\n",
       "0          6.4         2.8          5.6         2.2\n",
       "1          5.0         2.3          3.3         1.0\n",
       "2          4.9         2.5          4.5         1.7\n",
       "3          4.9         3.1          1.5         0.1\n",
       "4          5.7         3.8          1.7         0.3"
      ]
     },
     "execution_count": 6,
     "metadata": {},
     "output_type": "execute_result"
    }
   ],
   "source": [
    "train_y = train.pop('Species')\n",
    "test_y = test.pop('Species')\n",
    "train.head() # the species column is now gone"
   ]
  },
  {
   "cell_type": "code",
   "execution_count": 7,
   "metadata": {},
   "outputs": [
    {
     "data": {
      "text/plain": [
       "(120, 4)"
      ]
     },
     "execution_count": 7,
     "metadata": {},
     "output_type": "execute_result"
    }
   ],
   "source": [
    "train.shape  # we have 120 entires with 4 features"
   ]
  },
  {
   "cell_type": "markdown",
   "metadata": {},
   "source": [
    "## Input Function\n",
    "Remember that nasty input function we created earlier. Well we need to make another one here! Fortunatly for us this one is a little easier to digest."
   ]
  },
  {
   "cell_type": "code",
   "execution_count": 8,
   "metadata": {},
   "outputs": [],
   "source": [
    "def input_fn(features, labels, training=True, batch_size=256):\n",
    "    # Convert the inputs to a Dataset.\n",
    "    dataset = tf.data.Dataset.from_tensor_slices((dict(features), labels))\n",
    "\n",
    "    # Shuffle and repeat if you are in training mode.\n",
    "    if training:\n",
    "        dataset = dataset.shuffle(1000).repeat()\n",
    "    \n",
    "    return dataset.batch(batch_size)"
   ]
  },
  {
   "cell_type": "code",
   "execution_count": 9,
   "metadata": {},
   "outputs": [
    {
     "name": "stdout",
     "output_type": "stream",
     "text": [
      "[NumericColumn(key='SepalLength', shape=(1,), default_value=None, dtype=tf.float32, normalizer_fn=None), NumericColumn(key='SepalWidth', shape=(1,), default_value=None, dtype=tf.float32, normalizer_fn=None), NumericColumn(key='PetalLength', shape=(1,), default_value=None, dtype=tf.float32, normalizer_fn=None), NumericColumn(key='PetalWidth', shape=(1,), default_value=None, dtype=tf.float32, normalizer_fn=None)]\n"
     ]
    }
   ],
   "source": [
    "# Feature columns describe how to use the input.\n",
    "my_feature_columns = []\n",
    "for key in train.keys():\n",
    "    my_feature_columns.append(tf.feature_column.numeric_column(key=key))\n",
    "print(my_feature_columns)"
   ]
  },
  {
   "cell_type": "markdown",
   "metadata": {},
   "source": [
    "# 2. Building the Model\n",
    "And now we are ready to choose a model. For classification tasks there are variety of different estimators/models that we can pick from. Some options are listed below.\n",
    "\n",
    "- DNNClassifier (Deep Neural Network)\n",
    "- LinearClassifier\n",
    "\n",
    "We can choose either model but the DNN seems to be the best choice. This is because we may not be able to find a linear coorespondence in our data."
   ]
  },
  {
   "cell_type": "code",
   "execution_count": 10,
   "metadata": {},
   "outputs": [
    {
     "name": "stdout",
     "output_type": "stream",
     "text": [
      "INFO:tensorflow:Using default config.\n",
      "WARNING:tensorflow:Using temporary folder as model directory: C:\\Users\\Umberto\\AppData\\Local\\Temp\\tmpxidsijwa\n",
      "INFO:tensorflow:Using config: {'_model_dir': 'C:\\\\Users\\\\Umberto\\\\AppData\\\\Local\\\\Temp\\\\tmpxidsijwa', '_tf_random_seed': None, '_save_summary_steps': 100, '_save_checkpoints_steps': None, '_save_checkpoints_secs': 600, '_session_config': allow_soft_placement: true\n",
      "graph_options {\n",
      "  rewrite_options {\n",
      "    meta_optimizer_iterations: ONE\n",
      "  }\n",
      "}\n",
      ", '_keep_checkpoint_max': 5, '_keep_checkpoint_every_n_hours': 10000, '_log_step_count_steps': 100, '_train_distribute': None, '_device_fn': None, '_protocol': None, '_eval_distribute': None, '_experimental_distribute': None, '_experimental_max_worker_delay_secs': None, '_session_creation_timeout_secs': 7200, '_checkpoint_save_graph_def': True, '_service': None, '_cluster_spec': ClusterSpec({}), '_task_type': 'worker', '_task_id': 0, '_global_id_in_cluster': 0, '_master': '', '_evaluation_master': '', '_is_chief': True, '_num_ps_replicas': 0, '_num_worker_replicas': 1}\n"
     ]
    }
   ],
   "source": [
    "# Build a DNN with 2 hidden layers with 30 and 10 hidden nodes each.\n",
    "classifier = tf.estimator.DNNClassifier(\n",
    "    feature_columns=my_feature_columns,\n",
    "    # Two hidden layers of 30 and 10 nodes respectively.\n",
    "    hidden_units=[30, 10],\n",
    "    # The model must choose between 3 classes.\n",
    "    n_classes=3)"
   ]
  },
  {
   "cell_type": "markdown",
   "metadata": {},
   "source": [
    "## Training"
   ]
  },
  {
   "cell_type": "code",
   "execution_count": 11,
   "metadata": {},
   "outputs": [
    {
     "name": "stdout",
     "output_type": "stream",
     "text": [
      "WARNING:tensorflow:From G:\\Bicocca\\_Universita\\Laurea Magistrale\\Tesi magistrale\\tfod\\lib\\site-packages\\tensorflow\\python\\training\\training_util.py:235: Variable.initialized_value (from tensorflow.python.ops.variables) is deprecated and will be removed in a future version.\n",
      "Instructions for updating:\n",
      "Use Variable.read_value. Variables in 2.X are initialized automatically both in eager and graph (inside tf.defun) contexts.\n",
      "INFO:tensorflow:Calling model_fn.\n",
      "WARNING:tensorflow:From G:\\Bicocca\\_Universita\\Laurea Magistrale\\Tesi magistrale\\tfod\\lib\\site-packages\\keras\\optimizer_v2\\adagrad.py:83: calling Constant.__init__ (from tensorflow.python.ops.init_ops) with dtype is deprecated and will be removed in a future version.\n",
      "Instructions for updating:\n",
      "Call initializer instance with the dtype argument instead of passing it to the constructor\n",
      "INFO:tensorflow:Done calling model_fn.\n",
      "INFO:tensorflow:Create CheckpointSaverHook.\n",
      "INFO:tensorflow:Graph was finalized.\n",
      "INFO:tensorflow:Running local_init_op.\n",
      "INFO:tensorflow:Done running local_init_op.\n",
      "INFO:tensorflow:Calling checkpoint listeners before saving checkpoint 0...\n",
      "INFO:tensorflow:Saving checkpoints for 0 into C:\\Users\\Umberto\\AppData\\Local\\Temp\\tmpxidsijwa\\model.ckpt.\n",
      "INFO:tensorflow:Calling checkpoint listeners after saving checkpoint 0...\n",
      "INFO:tensorflow:loss = 0.9796038, step = 0\n",
      "INFO:tensorflow:global_step/sec: 595.204\n",
      "INFO:tensorflow:loss = 0.7709818, step = 100 (0.169 sec)\n",
      "INFO:tensorflow:global_step/sec: 775.15\n",
      "INFO:tensorflow:loss = 0.71792865, step = 200 (0.130 sec)\n",
      "INFO:tensorflow:global_step/sec: 751.837\n",
      "INFO:tensorflow:loss = 0.6726494, step = 300 (0.132 sec)\n",
      "INFO:tensorflow:global_step/sec: 763.314\n",
      "INFO:tensorflow:loss = 0.6353076, step = 400 (0.131 sec)\n",
      "INFO:tensorflow:global_step/sec: 751.837\n",
      "INFO:tensorflow:loss = 0.61563, step = 500 (0.133 sec)\n",
      "INFO:tensorflow:global_step/sec: 769.188\n",
      "INFO:tensorflow:loss = 0.5953284, step = 600 (0.130 sec)\n",
      "INFO:tensorflow:global_step/sec: 757.532\n",
      "INFO:tensorflow:loss = 0.5691358, step = 700 (0.132 sec)\n",
      "INFO:tensorflow:global_step/sec: 709.18\n",
      "INFO:tensorflow:loss = 0.55567086, step = 800 (0.141 sec)\n",
      "INFO:tensorflow:global_step/sec: 662.213\n",
      "INFO:tensorflow:loss = 0.54731786, step = 900 (0.151 sec)\n",
      "INFO:tensorflow:global_step/sec: 740.698\n",
      "INFO:tensorflow:loss = 0.52030456, step = 1000 (0.135 sec)\n",
      "INFO:tensorflow:global_step/sec: 781.206\n",
      "INFO:tensorflow:loss = 0.51682043, step = 1100 (0.128 sec)\n",
      "INFO:tensorflow:global_step/sec: 757.532\n",
      "INFO:tensorflow:loss = 0.5125706, step = 1200 (0.132 sec)\n",
      "INFO:tensorflow:global_step/sec: 769.186\n",
      "INFO:tensorflow:loss = 0.5011289, step = 1300 (0.130 sec)\n",
      "INFO:tensorflow:global_step/sec: 757.534\n",
      "INFO:tensorflow:loss = 0.49855468, step = 1400 (0.133 sec)\n",
      "INFO:tensorflow:global_step/sec: 746.226\n",
      "INFO:tensorflow:loss = 0.4881516, step = 1500 (0.133 sec)\n",
      "INFO:tensorflow:global_step/sec: 704.184\n",
      "INFO:tensorflow:loss = 0.47993764, step = 1600 (0.142 sec)\n",
      "INFO:tensorflow:global_step/sec: 671.104\n",
      "INFO:tensorflow:loss = 0.4691821, step = 1700 (0.149 sec)\n",
      "INFO:tensorflow:global_step/sec: 787.357\n",
      "INFO:tensorflow:loss = 0.46701336, step = 1800 (0.127 sec)\n",
      "INFO:tensorflow:global_step/sec: 775.15\n",
      "INFO:tensorflow:loss = 0.4460047, step = 1900 (0.129 sec)\n",
      "INFO:tensorflow:global_step/sec: 775.148\n",
      "INFO:tensorflow:loss = 0.44061974, step = 2000 (0.129 sec)\n",
      "INFO:tensorflow:global_step/sec: 757.532\n",
      "INFO:tensorflow:loss = 0.4335798, step = 2100 (0.132 sec)\n",
      "INFO:tensorflow:global_step/sec: 763.315\n",
      "INFO:tensorflow:loss = 0.43710214, step = 2200 (0.131 sec)\n",
      "INFO:tensorflow:global_step/sec: 769.186\n",
      "INFO:tensorflow:loss = 0.42260182, step = 2300 (0.130 sec)\n",
      "INFO:tensorflow:global_step/sec: 769.188\n",
      "INFO:tensorflow:loss = 0.41727525, step = 2400 (0.131 sec)\n",
      "INFO:tensorflow:global_step/sec: 769.186\n",
      "INFO:tensorflow:loss = 0.40121186, step = 2500 (0.130 sec)\n",
      "INFO:tensorflow:global_step/sec: 751.836\n",
      "INFO:tensorflow:loss = 0.39832765, step = 2600 (0.132 sec)\n",
      "INFO:tensorflow:global_step/sec: 775.15\n",
      "INFO:tensorflow:loss = 0.4067976, step = 2700 (0.130 sec)\n",
      "INFO:tensorflow:global_step/sec: 763.315\n",
      "INFO:tensorflow:loss = 0.39449814, step = 2800 (0.130 sec)\n",
      "INFO:tensorflow:global_step/sec: 769.188\n",
      "INFO:tensorflow:loss = 0.38500684, step = 2900 (0.130 sec)\n",
      "INFO:tensorflow:global_step/sec: 724.595\n",
      "INFO:tensorflow:loss = 0.38753194, step = 3000 (0.139 sec)\n",
      "INFO:tensorflow:global_step/sec: 653.558\n",
      "INFO:tensorflow:loss = 0.3705873, step = 3100 (0.152 sec)\n",
      "INFO:tensorflow:global_step/sec: 751.837\n",
      "INFO:tensorflow:loss = 0.38046396, step = 3200 (0.133 sec)\n",
      "INFO:tensorflow:global_step/sec: 769.188\n",
      "INFO:tensorflow:loss = 0.36766285, step = 3300 (0.130 sec)\n",
      "INFO:tensorflow:global_step/sec: 763.314\n",
      "INFO:tensorflow:loss = 0.34426662, step = 3400 (0.132 sec)\n",
      "INFO:tensorflow:global_step/sec: 757.532\n",
      "INFO:tensorflow:loss = 0.3622049, step = 3500 (0.131 sec)\n",
      "INFO:tensorflow:global_step/sec: 763.315\n",
      "INFO:tensorflow:loss = 0.3601079, step = 3600 (0.131 sec)\n",
      "INFO:tensorflow:global_step/sec: 763.315\n",
      "INFO:tensorflow:loss = 0.3421587, step = 3700 (0.131 sec)\n",
      "INFO:tensorflow:global_step/sec: 763.314\n",
      "INFO:tensorflow:loss = 0.3563773, step = 3800 (0.131 sec)\n",
      "INFO:tensorflow:global_step/sec: 775.15\n",
      "INFO:tensorflow:loss = 0.3452267, step = 3900 (0.130 sec)\n",
      "INFO:tensorflow:global_step/sec: 671.103\n",
      "INFO:tensorflow:loss = 0.33496815, step = 4000 (0.148 sec)\n",
      "INFO:tensorflow:global_step/sec: 694.405\n",
      "INFO:tensorflow:loss = 0.33707494, step = 4100 (0.144 sec)\n",
      "INFO:tensorflow:global_step/sec: 781.206\n",
      "INFO:tensorflow:loss = 0.33523127, step = 4200 (0.128 sec)\n",
      "INFO:tensorflow:global_step/sec: 775.148\n",
      "INFO:tensorflow:loss = 0.32510725, step = 4300 (0.129 sec)\n",
      "INFO:tensorflow:global_step/sec: 751.836\n",
      "INFO:tensorflow:loss = 0.33588028, step = 4400 (0.133 sec)\n",
      "INFO:tensorflow:global_step/sec: 763.315\n",
      "INFO:tensorflow:loss = 0.32319793, step = 4500 (0.131 sec)\n",
      "INFO:tensorflow:global_step/sec: 769.188\n",
      "INFO:tensorflow:loss = 0.3227677, step = 4600 (0.131 sec)\n",
      "INFO:tensorflow:global_step/sec: 769.186\n",
      "INFO:tensorflow:loss = 0.32243112, step = 4700 (0.129 sec)\n",
      "INFO:tensorflow:global_step/sec: 775.15\n",
      "INFO:tensorflow:loss = 0.3092584, step = 4800 (0.130 sec)\n",
      "INFO:tensorflow:global_step/sec: 769.186\n",
      "INFO:tensorflow:loss = 0.3086712, step = 4900 (0.129 sec)\n",
      "INFO:tensorflow:Calling checkpoint listeners before saving checkpoint 5000...\n",
      "INFO:tensorflow:Saving checkpoints for 5000 into C:\\Users\\Umberto\\AppData\\Local\\Temp\\tmpxidsijwa\\model.ckpt.\n",
      "INFO:tensorflow:Calling checkpoint listeners after saving checkpoint 5000...\n",
      "INFO:tensorflow:Loss for final step: 0.31662402.\n"
     ]
    },
    {
     "data": {
      "text/plain": [
       "<tensorflow_estimator.python.estimator.canned.dnn.DNNClassifierV2 at 0x395d5430>"
      ]
     },
     "execution_count": 11,
     "metadata": {},
     "output_type": "execute_result"
    }
   ],
   "source": [
    "classifier.train(\n",
    "    input_fn=lambda: input_fn(train, train_y, training=True),\n",
    "    steps=5000)\n",
    "# We include a lambda to avoid creating an inner function previously"
   ]
  },
  {
   "cell_type": "markdown",
   "metadata": {},
   "source": [
    "## Evaluation"
   ]
  },
  {
   "cell_type": "code",
   "execution_count": 12,
   "metadata": {},
   "outputs": [
    {
     "name": "stdout",
     "output_type": "stream",
     "text": [
      "INFO:tensorflow:Calling model_fn.\n",
      "INFO:tensorflow:Done calling model_fn.\n",
      "INFO:tensorflow:Starting evaluation at 2021-10-19T12:19:34\n",
      "INFO:tensorflow:Graph was finalized.\n",
      "INFO:tensorflow:Restoring parameters from C:\\Users\\Umberto\\AppData\\Local\\Temp\\tmpxidsijwa\\model.ckpt-5000\n",
      "INFO:tensorflow:Running local_init_op.\n",
      "INFO:tensorflow:Done running local_init_op.\n",
      "INFO:tensorflow:Inference Time : 0.32502s\n",
      "INFO:tensorflow:Finished evaluation at 2021-10-19-12:19:35\n",
      "INFO:tensorflow:Saving dict for global step 5000: accuracy = 0.93333334, average_loss = 0.36279938, global_step = 5000, loss = 0.36279938\n",
      "INFO:tensorflow:Saving 'checkpoint_path' summary for global step 5000: C:\\Users\\Umberto\\AppData\\Local\\Temp\\tmpxidsijwa\\model.ckpt-5000\n",
      "\n",
      "Test set accuracy: 0.933\n",
      "\n"
     ]
    }
   ],
   "source": [
    "eval_result = classifier.evaluate(\n",
    "    input_fn=lambda: input_fn(test, test_y, training=False))\n",
    "\n",
    "print('\\nTest set accuracy: {accuracy:0.3f}\\n'.format(**eval_result))"
   ]
  },
  {
   "cell_type": "markdown",
   "metadata": {},
   "source": [
    "## Predictions\n",
    "Now that we have a trained model it's time to use it to make predictions. I've written a little script below that allows you to type the features of a flower and see a prediction for its class."
   ]
  },
  {
   "cell_type": "code",
   "execution_count": 13,
   "metadata": {},
   "outputs": [
    {
     "name": "stdout",
     "output_type": "stream",
     "text": [
      "Please type numeric values as prompted.\n",
      "SepalLength: 5.1\n",
      "SepalWidth: 3.3\n",
      "PetalLength: 1.7\n",
      "PetalWidth: 0.5\n",
      "INFO:tensorflow:Calling model_fn.\n",
      "INFO:tensorflow:Done calling model_fn.\n",
      "INFO:tensorflow:Graph was finalized.\n",
      "INFO:tensorflow:Restoring parameters from C:\\Users\\Umberto\\AppData\\Local\\Temp\\tmpxidsijwa\\model.ckpt-5000\n",
      "INFO:tensorflow:Running local_init_op.\n",
      "INFO:tensorflow:Done running local_init_op.\n",
      "Prediction is \"Setosa\" (93.2%)\n"
     ]
    }
   ],
   "source": [
    "def input_fn(features, batch_size=256):\n",
    "    # Convert the inputs to a Dataset without labels.\n",
    "    return tf.data.Dataset.from_tensor_slices(dict(features)).batch(batch_size)\n",
    "\n",
    "features = ['SepalLength', 'SepalWidth', 'PetalLength', 'PetalWidth']\n",
    "predict = {}\n",
    "\n",
    "print(\"Please type numeric values as prompted.\")\n",
    "for feature in features:\n",
    "  valid = True\n",
    "  while valid: \n",
    "    val = input(feature + \": \")\n",
    "    if not val.isdigit(): valid = False\n",
    "\n",
    "  predict[feature] = [float(val)]\n",
    "\n",
    "predictions = classifier.predict(input_fn=lambda: input_fn(predict))\n",
    "for pred_dict in predictions:\n",
    "    class_id = pred_dict['class_ids'][0]\n",
    "    probability = pred_dict['probabilities'][class_id]\n",
    "\n",
    "    print('Prediction is \"{}\" ({:.1f}%)'.format(\n",
    "        SPECIES[class_id], 100 * probability))\n"
   ]
  },
  {
   "cell_type": "code",
   "execution_count": null,
   "metadata": {},
   "outputs": [],
   "source": [
    "# Here is some example input and expected classes you can try above\n",
    "expected = ['Setosa', 'Versicolor', 'Virginica']\n",
    "predict_x = {\n",
    "    'SepalLength': [5.1, 5.9, 6.9],\n",
    "    'SepalWidth': [3.3, 3.0, 3.1],\n",
    "    'PetalLength': [1.7, 4.2, 5.4],\n",
    "    'PetalWidth': [0.5, 1.5, 2.1],\n",
    "}"
   ]
  }
 ],
 "metadata": {
  "kernelspec": {
   "display_name": "tfod",
   "language": "python",
   "name": "tfod"
  },
  "language_info": {
   "codemirror_mode": {
    "name": "ipython",
    "version": 3
   },
   "file_extension": ".py",
   "mimetype": "text/x-python",
   "name": "python",
   "nbconvert_exporter": "python",
   "pygments_lexer": "ipython3",
   "version": "3.8.5"
  }
 },
 "nbformat": 4,
 "nbformat_minor": 2
}
