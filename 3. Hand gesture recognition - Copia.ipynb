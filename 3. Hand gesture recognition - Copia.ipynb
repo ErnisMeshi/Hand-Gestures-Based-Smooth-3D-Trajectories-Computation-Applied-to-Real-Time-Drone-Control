{
 "cells": [
  {
   "cell_type": "markdown",
   "metadata": {},
   "source": [
    "# 1. Import Dependencies"
   ]
  },
  {
   "cell_type": "code",
   "execution_count": null,
   "metadata": {},
   "outputs": [],
   "source": [
    "import tensorflow as tf\n",
    "import pandas as pd\n",
    "import matplotlib.pyplot as plt\n",
    "import numpy as np\n",
    "import os"
   ]
  },
  {
   "cell_type": "markdown",
   "metadata": {},
   "source": [
    "## How to get new data\n",
    "Remember to do a backup before to proceed, look at backup\\appunti.txt.\n",
    "\n",
    "To generate new data pen scripts\\getDataHandGesture.py and edit labels adding new gestures. \n",
    "\n",
    "Execute it to export data in src\\dataHandGesture\n",
    "\n",
    "## How to export and use the generated model\n",
    "At the end of the execution the generated model will be here: Tensorflow\\workspace\\models\n",
    "\n",
    "Then, copy the name of the folder inside Tensorflow\\workspace\\models\\my_hand_gesture_model\\ (not eval, should be something like 1642800231) and paste in\n",
    "scripts\\handGestureModule.py in the first variable named \"lastModel\"\n",
    "\n",
    "## Dataset\n",
    "This specific dataset seperates hand gestures into 10 different classes.\n",
    "\n",
    "<img style=\"float: center;\" src=\"document\\images\\gestures.png\">\n",
    "\n",
    "- backward:\n",
    "    > this command allows the drone to go backwards;\n",
    "- detect:\n",
    "    > this command allows you to detect a 3d trajectory;\n",
    "- down: \n",
    "    > this command allows the drone to go down;\n",
    "- forward: \n",
    "    > this command allows the drone to go forward;\n",
    "- land:\n",
    "    > this command allows the drone to land;\n",
    "- left:\n",
    "    > this command allows the drone to go left;\n",
    "- ok:\n",
    "    > this command allows the drone to go close and execute a 3d trajectory;\n",
    "- right:\n",
    "    > this command allows the drone to go right;\n",
    "- stop:\n",
    "    > this command allows the drone to stop his movements;\n",
    "- up:\n",
    "    > this command allows the drone to go up.\n",
    "\n",
    "The information about each hand gesture is contained into 42 features."
   ]
  },
  {
   "cell_type": "code",
   "execution_count": null,
   "metadata": {},
   "outputs": [],
   "source": [
    "# CSV_COLUMN_NAMES = np.arange(43)\n",
    "# CSV_COLUMN_NAMES = [str(item) for item in CSV_COLUMN_NAMES]\n",
    "\n",
    "CSV_COLUMN_NAMES = [\"WRIST_X\", \"WRIST_Y\",\n",
    "                    \"THUMB_CMC_X\", \"THUMB_CMC_Y\",\n",
    "                    \"THUMB_MCP_X\", \"THUMB_MCP_Y\",\n",
    "                    \"THUMB_IP_X\", \"THUMB_IP_Y\",\n",
    "                    \"THUMB_TIP_X\", \"THUMB_TIP_Y\",\n",
    "                    \"INDEX_FINGER_MCP_X\", \"INDEX_FINGER_MCP_Y\",\n",
    "                    \"INDEX_FINGER_PIP_X\", \"INDEX_FINGER_PIP_Y\",\n",
    "                    \"INDEX_FINGER_DIP_X\", \"INDEX_FINGER_DIP_Y\",\n",
    "                    \"INDEX_FINGER_TIP_X\", \"INDEX_FINGER_TIP_Y\",\n",
    "                    \"MIDDLE_FINGER_MCP_X\", \"MIDDLE_FINGER_MCP_Y\",\n",
    "                    \"MIDDLE_FINGER_PIP_X\", \"MIDDLE_FINGER_PIP_Y\",\n",
    "                    \"MIDDLE_FINGER_DIP_X\", \"MIDDLE_FINGER_DIP_Y\",\n",
    "                    \"MIDDLE_FINGER_TIP_X\", \"MIDDLE_FINGER_TIP_Y\",\n",
    "                    \"RING_FINGER_MCP_X\", \"RING_FINGER_MCP_Y\",\n",
    "                    \"RING_FINGER_PIP_X\", \"RING_FINGER_PIP_Y\",\n",
    "                    \"RING_FINGER_DIP_X\", \"RING_FINGER_DIP_Y\",\n",
    "                    \"RING_FINGER_TIP_X\", \"RING_FINGER_TIP_Y\",\n",
    "                    \"PINKY_MCP_X\", \"PINKY_MCP_Y\",\n",
    "                    \"PINKY_PIP_X\", \"PINKY_PIP_Y\",\n",
    "                    \"PINKY_DIP_X\", \"PINKY_DIP_Y\",\n",
    "                    \"PINKY_TIP_X\", \"PINKY_TIP_Y\",\n",
    "                    \"TARGET\"]\n",
    "\n",
    "TARGET = ['backward', 'detect', 'down', 'forward', 'land', 'left', 'ok', 'right', 'stop', 'up']\n",
    "CSV_PATH = os.path.join(\"src\", \"dataHandGesture\", \"file_0.csv\")"
   ]
  },
  {
   "cell_type": "code",
   "execution_count": null,
   "metadata": {},
   "outputs": [],
   "source": [
    "df = pd.read_csv(CSV_PATH, names=CSV_COLUMN_NAMES, header=0)\n",
    "train=df.sample(frac=0.8,random_state=200) #random state is a seed value\n",
    "test=df.drop(train.index)"
   ]
  },
  {
   "cell_type": "code",
   "execution_count": null,
   "metadata": {},
   "outputs": [],
   "source": [
    "train.head()"
   ]
  },
  {
   "cell_type": "code",
   "execution_count": null,
   "metadata": {},
   "outputs": [],
   "source": [
    "train_y = train.pop('TARGET')\n",
    "test_y = test.pop('TARGET')\n",
    "train_y = train_y.apply(np.int32)\n",
    "test_y = test_y.apply(np.int32)\n",
    "train.head() # the TARGET column is now gone"
   ]
  },
  {
   "cell_type": "code",
   "execution_count": null,
   "metadata": {},
   "outputs": [],
   "source": [
    "train.shape  # we have 800 entires with 42 features"
   ]
  },
  {
   "cell_type": "markdown",
   "metadata": {},
   "source": [
    "EDA\n",
    "We'll just do a few quick plots of the data."
   ]
  },
  {
   "cell_type": "code",
   "execution_count": null,
   "metadata": {},
   "outputs": [],
   "source": [
    "import seaborn as sns # data visualization library  "
   ]
  },
  {
   "cell_type": "code",
   "execution_count": null,
   "metadata": {},
   "outputs": [],
   "source": [
    "sns.set(style=\"white\")\n",
    "x = df.loc[:,['WRIST_X','1','2']]\n",
    "g = sns.PairGrid(x, diag_sharey=False)\n",
    "g.map_lower(sns.kdeplot, cmap=\"Blues_d\")\n",
    "g.map_upper(plt.scatter)\n",
    "g.map_diag(sns.kdeplot, lw=3)"
   ]
  },
  {
   "cell_type": "markdown",
   "metadata": {},
   "source": [
    "## Input Function\n",
    "Remember that nasty input function we created earlier. Well we need to make another one here! Fortunatly for us this one is a little easier to digest."
   ]
  },
  {
   "cell_type": "code",
   "execution_count": null,
   "metadata": {},
   "outputs": [],
   "source": [
    "def input_fn(features, labels, training=True, batch_size=256):\n",
    "    # Convert the inputs to a Dataset.\n",
    "    dataset = tf.data.Dataset.from_tensor_slices((dict(features), labels))\n",
    "\n",
    "    # Shuffle and repeat if you are in training mode.\n",
    "    if training:\n",
    "        dataset = dataset.shuffle(1000).repeat()\n",
    "    \n",
    "    return dataset.batch(batch_size)"
   ]
  },
  {
   "cell_type": "code",
   "execution_count": null,
   "metadata": {},
   "outputs": [],
   "source": [
    "# Feature columns describe how to use the input.\n",
    "my_feature_columns = []\n",
    "for key in train.keys():\n",
    "    my_feature_columns.append(tf.feature_column.numeric_column(key=key))"
   ]
  },
  {
   "cell_type": "markdown",
   "metadata": {},
   "source": [
    "# 2. Building the Model\n",
    "And now we are ready to choose a model. For classification tasks there are variety of different estimators/models that we can pick from. Some options are listed below.\n",
    "\n",
    "- DNNClassifier (Deep Neural Network)\n",
    "- LinearClassifier\n",
    "\n",
    "We can choose either model but the DNN seems to be the best choice. This is because we may not be able to find a linear coorespondence in our data."
   ]
  },
  {
   "cell_type": "code",
   "execution_count": null,
   "metadata": {},
   "outputs": [],
   "source": [
    "MODEL_PATH = os.path.join(\"Tensorflow\", \"workspace\", \"models\", \"my_hand_gesture_model_test\")"
   ]
  },
  {
   "cell_type": "code",
   "execution_count": null,
   "metadata": {},
   "outputs": [],
   "source": [
    "# Build a DNN with 2 hidden layers with 30 and 10 hidden nodes each.\n",
    "classifier = tf.estimator.DNNClassifier(\n",
    "    feature_columns=my_feature_columns,\n",
    "    # Two hidden layers of 30 and 10 nodes respectively.\n",
    "    hidden_units=[30, 10],\n",
    "    # The model must choose between len(TARGET) classes.\n",
    "    n_classes=len(TARGET),\n",
    "    activation_fn=lambda x: tf.nn.leaky_relu(x, alpha=0.01),\n",
    "    optimizer=lambda: tf.keras.optimizers.Adam(\n",
    "           learning_rate=tf.compat.v1.train.exponential_decay(\n",
    "               learning_rate=0.1,\n",
    "               global_step=tf.compat.v1.train.get_global_step(),\n",
    "               decay_steps=10000,\n",
    "               decay_rate=0.96)\n",
    "       ),\n",
    "    model_dir= MODEL_PATH)"
   ]
  },
  {
   "cell_type": "markdown",
   "metadata": {},
   "source": [
    "## Training"
   ]
  },
  {
   "cell_type": "code",
   "execution_count": null,
   "metadata": {},
   "outputs": [],
   "source": [
    "classifier.train(\n",
    "    input_fn=lambda: input_fn(train, train_y, training=True),\n",
    "    steps=3000)"
   ]
  },
  {
   "cell_type": "markdown",
   "metadata": {},
   "source": [
    "## Export Model"
   ]
  },
  {
   "cell_type": "code",
   "execution_count": null,
   "metadata": {},
   "outputs": [],
   "source": [
    "# To export\n",
    "feature_spec = tf.feature_column.make_parse_example_spec(my_feature_columns)\n",
    "export_input_fn = tf.estimator.export.build_parsing_serving_input_receiver_fn(feature_spec)\n",
    "export_path = classifier.export_saved_model(MODEL_PATH, export_input_fn, as_text=True)"
   ]
  },
  {
   "cell_type": "markdown",
   "metadata": {},
   "source": [
    "## Load Model"
   ]
  },
  {
   "cell_type": "code",
   "execution_count": null,
   "metadata": {},
   "outputs": [],
   "source": [
    "# Loading the estimator\n",
    "predict_fn = tf.saved_model.load(export_path).signatures['predict']\n",
    "predict_fn"
   ]
  },
  {
   "cell_type": "code",
   "execution_count": null,
   "metadata": {},
   "outputs": [],
   "source": [
    "# Convert input data into serialized Example strings.\n",
    "examples = []\n",
    "for index, row in test.iterrows():\n",
    "    feature = {}\n",
    "    for col, value in row.iteritems():\n",
    "        feature[col] = tf.train.Feature(float_list=tf.train.FloatList(value=[value]))\n",
    "    example = tf.train.Example(\n",
    "        features=tf.train.Features(\n",
    "            feature=feature\n",
    "        )\n",
    "    )\n",
    "    examples.append(example.SerializeToString())\n",
    "\n",
    "# Convert from list to tensor\n",
    "examples = tf.constant(examples)\n",
    "\n",
    "print(test)\n",
    "print(feature)"
   ]
  },
  {
   "cell_type": "code",
   "execution_count": null,
   "metadata": {},
   "outputs": [],
   "source": [
    "# https://stackoverflow.com/questions/46766606/how-i-get-accurcy-graphnot-dot-like-loss-graph-in-tensorboard\n",
    "\n",
    "# make predictions of all testset\n",
    "predictions = predict_fn(examples=examples)\n",
    "print(predictions)"
   ]
  },
  {
   "cell_type": "code",
   "execution_count": null,
   "metadata": {},
   "outputs": [],
   "source": [
    "# print results\n",
    "for idx, resultPred in enumerate(predictions[\"class_ids\"]):\n",
    "    class_id = resultPred[0]\n",
    "    probability = predictions['probabilities'][idx][class_id]\n",
    "    print(probability)\n",
    "    print(f\"\\tPrediction is {TARGET[class_id]} {100 * probability :.2f}%\")\n",
    "    print(f\"\\tExpected: {TARGET[test_y.iloc[idx]]}\")"
   ]
  },
  {
   "cell_type": "markdown",
   "metadata": {},
   "source": [
    "## Evaluation"
   ]
  },
  {
   "cell_type": "code",
   "execution_count": null,
   "metadata": {},
   "outputs": [],
   "source": [
    "# tensorboard --logdir .\n",
    "eval_result = classifier.evaluate(\n",
    "    input_fn=lambda: input_fn(test, test_y, training=False), steps=1)"
   ]
  },
  {
   "cell_type": "code",
   "execution_count": null,
   "metadata": {},
   "outputs": [],
   "source": [
    "print('\\nTest set accuracy: {accuracy:0.3f}\\n'.format(**eval_result))\n",
    "eval_result"
   ]
  },
  {
   "cell_type": "markdown",
   "metadata": {},
   "source": [
    "## Predictions\n",
    "Now that we have a trained model it's time to use it to make predictions. I've written a little script below that allows you to type the features of a flower and see a prediction for its class."
   ]
  },
  {
   "cell_type": "code",
   "execution_count": null,
   "metadata": {},
   "outputs": [],
   "source": [
    "def input_fn(features, batch_size=256):\n",
    "    # Convert the inputs to a Dataset without labels.\n",
    "    return tf.data.Dataset.from_tensor_slices(dict(features)).batch(batch_size)\n",
    "\n",
    "features = CSV_COLUMN_NAMES[:-1]\n",
    "predict = {}\n",
    "\n",
    "for rowNum in range(5):\n",
    "    expected = TARGET[test_y.iloc[rowNum]]\n",
    "    for idx, feature in enumerate(features):\n",
    "      predict[feature] = [test.iloc[rowNum][idx]] #to predict the first row of test\n",
    "\n",
    "    predictions = classifier.predict(input_fn=lambda: input_fn(predict))\n",
    "    for pred_dict in predictions:\n",
    "        class_id = pred_dict['class_ids'][0]\n",
    "        probability = pred_dict['probabilities'][class_id]\n",
    "\n",
    "        print(\"\\n\")\n",
    "        print('Prediction is \"{}\" ({:.1f}%)'.format(\n",
    "            TARGET[class_id], 100 * probability))\n",
    "        print(f\"Expected is {expected}\")"
   ]
  },
  {
   "cell_type": "markdown",
   "metadata": {},
   "source": [
    "# (NEW ADDED 26/01/2022) Evaluating model performance\n",
    "\n",
    "https://www.kaggle.com/riteshsinha/tensorflow-2-classifying-tumors-deep-learning\n",
    "\n",
    "https://www.kaggle.com/karthickaravindan/dnnclassifier"
   ]
  },
  {
   "cell_type": "code",
   "execution_count": null,
   "metadata": {},
   "outputs": [],
   "source": [
    "# Prediction is done here now.\n",
    "predictions = list(predict_fn(examples=examples)[\"class_ids\"].numpy().T[0])"
   ]
  },
  {
   "cell_type": "code",
   "execution_count": null,
   "metadata": {},
   "outputs": [],
   "source": [
    "from sklearn.metrics import classification_report, accuracy_score\n",
    "from sklearn.metrics import confusion_matrix, ConfusionMatrixDisplay"
   ]
  },
  {
   "cell_type": "code",
   "execution_count": null,
   "metadata": {},
   "outputs": [],
   "source": [
    "cm = confusion_matrix(test_y, predictions)\n",
    "print(cm)"
   ]
  },
  {
   "cell_type": "code",
   "execution_count": null,
   "metadata": {},
   "outputs": [],
   "source": [
    "# https://stackoverflow.com/questions/67636940/confusionmatrixdisplay-scikit-learn-plot-labels-out-of-range\n",
    "cmp = ConfusionMatrixDisplay(confusion_matrix=cm, display_labels=TARGET)\n",
    "fig, ax = plt.subplots(figsize=(15,15)) # set size\n",
    "cmp.plot(ax=ax, xticks_rotation=45)\n",
    "\n",
    "SMALL_SIZE = 30\n",
    "MEDIUM_SIZE = 40\n",
    "BIGGER_SIZE = 20\n",
    "plt.rc('font', size=SMALL_SIZE)          # controls default text sizes\n",
    "plt.rc('axes', titlesize=SMALL_SIZE)     # fontsize of the axes title\n",
    "plt.rc('axes', labelsize=MEDIUM_SIZE)    # fontsize of the x and y labels\n",
    "plt.rc('xtick', labelsize=SMALL_SIZE)    # fontsize of the tick labels\n",
    "plt.rc('ytick', labelsize=SMALL_SIZE)    # fontsize of the tick labels\n",
    "plt.rc('legend', fontsize=SMALL_SIZE)    # legend fontsize\n",
    "plt.rc('figure', titlesize=BIGGER_SIZE)  # fontsize of the figure title\n",
    "\n",
    "plt.show()"
   ]
  },
  {
   "cell_type": "code",
   "execution_count": null,
   "metadata": {},
   "outputs": [],
   "source": [
    "print(classification_report(test_y, predictions))"
   ]
  },
  {
   "cell_type": "code",
   "execution_count": null,
   "metadata": {},
   "outputs": [],
   "source": [
    "accuracy_score(test_y, predictions, normalize=True, sample_weight=None)"
   ]
  }
 ],
 "metadata": {
  "interpreter": {
   "hash": "074180907b16508a95e80ae3a7e8e978808f6c547afa81d192606312e825b5c0"
  },
  "kernelspec": {
   "display_name": "tfod",
   "language": "python",
   "name": "python3"
  },
  "language_info": {
   "codemirror_mode": {
    "name": "ipython",
    "version": 3
   },
   "file_extension": ".py",
   "mimetype": "text/x-python",
   "name": "python",
   "nbconvert_exporter": "python",
   "pygments_lexer": "ipython3",
   "version": "3.8.5"
  }
 },
 "nbformat": 4,
 "nbformat_minor": 2
}
