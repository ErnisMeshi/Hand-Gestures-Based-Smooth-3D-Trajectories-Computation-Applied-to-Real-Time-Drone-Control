{
 "cells": [
  {
   "cell_type": "markdown",
   "metadata": {},
   "source": [
    "# 1. Import Dependencies"
   ]
  },
  {
   "cell_type": "code",
   "execution_count": 7,
   "metadata": {},
   "outputs": [
    {
     "name": "stdout",
     "output_type": "stream",
     "text": [
      "Package           Version\n",
      "----------------- --------\n",
      "backcall          0.2.0\n",
      "colorama          0.4.4\n",
      "debugpy           1.5.0\n",
      "decorator         5.1.0\n",
      "entrypoints       0.3\n",
      "ipykernel         6.4.1\n",
      "ipython           7.28.0\n",
      "ipython-genutils  0.2.0\n",
      "jedi              0.18.0\n",
      "jupyter-client    7.0.6\n",
      "jupyter-core      4.8.1\n",
      "lxml              4.6.3\n",
      "matplotlib-inline 0.1.3\n",
      "nest-asyncio      1.5.1\n",
      "numpy             1.21.2\n",
      "opencv-python     4.5.3.56\n",
      "parso             0.8.2\n",
      "pickleshare       0.7.5\n",
      "pip               21.2.4\n",
      "prompt-toolkit    3.0.20\n",
      "Pygments          2.10.0\n",
      "PyQt5             5.15.4\n",
      "PyQt5-Qt5         5.15.2\n",
      "PyQt5-sip         12.9.0\n",
      "python-dateutil   2.8.2\n",
      "pywin32           301\n",
      "pyzmq             22.3.0\n",
      "setuptools        47.1.0\n",
      "six               1.16.0\n",
      "tornado           6.1\n",
      "traitlets         5.1.0\n",
      "wcwidth           0.2.5\n",
      "Requirement already satisfied: opencv-python in g:\\bicocca\\_università\\laurea magistrale\\tesi magistrale\\tensorflow object detection\\tfodcourse\\tfod\\lib\\site-packages (4.5.3.56)\n",
      "Requirement already satisfied: numpy>=1.17.3 in g:\\bicocca\\_università\\laurea magistrale\\tesi magistrale\\tensorflow object detection\\tfodcourse\\tfod\\lib\\site-packages (from opencv-python) (1.21.2)\n"
     ]
    }
   ],
   "source": [
    "!pip list\n",
    "!pip install opencv-python"
   ]
  },
  {
   "cell_type": "code",
   "execution_count": 8,
   "metadata": {},
   "outputs": [],
   "source": [
    "# Import opencv\n",
    "import cv2 \n",
    "\n",
    "# Import uuid\n",
    "import uuid\n",
    "\n",
    "# Import Operating System\n",
    "import os\n",
    "\n",
    "# Import time\n",
    "import time"
   ]
  },
  {
   "cell_type": "markdown",
   "metadata": {},
   "source": [
    "# 2. Define Images to Collect"
   ]
  },
  {
   "cell_type": "code",
   "execution_count": 9,
   "metadata": {},
   "outputs": [],
   "source": [
    "labels = ['thumbsup', 'thumbsdown', 'thankyou', 'livelong']\n",
    "number_imgs = 5"
   ]
  },
  {
   "cell_type": "markdown",
   "metadata": {},
   "source": [
    "# 3. Setup Folders "
   ]
  },
  {
   "cell_type": "code",
   "execution_count": 10,
   "metadata": {},
   "outputs": [
    {
     "name": "stdout",
     "output_type": "stream",
     "text": [
      "Tensorflow\\workspace\\images\\collectedimages\n"
     ]
    }
   ],
   "source": [
    "IMAGES_PATH = os.path.join('Tensorflow', 'workspace', 'images', 'collectedimages')\n",
    "print(IMAGES_PATH)"
   ]
  },
  {
   "cell_type": "code",
   "execution_count": 11,
   "metadata": {},
   "outputs": [],
   "source": [
    "if not os.path.exists(IMAGES_PATH):\n",
    "    if os.name == 'posix': # if linux system\n",
    "        !mkdir -p {IMAGES_PATH}\n",
    "    if os.name == 'nt': # if windows system\n",
    "         !mkdir {IMAGES_PATH}\n",
    "for label in labels:\n",
    "    path = os.path.join(IMAGES_PATH, label)\n",
    "    if not os.path.exists(path):\n",
    "        !mkdir {path}"
   ]
  },
  {
   "cell_type": "markdown",
   "metadata": {},
   "source": [
    "# 4. Capture Images"
   ]
  },
  {
   "cell_type": "code",
   "execution_count": 8,
   "metadata": {},
   "outputs": [
    {
     "name": "stdout",
     "output_type": "stream",
     "text": [
      "Collecting images for thumbsup\n",
      "Collecting image 0\n",
      "Collecting image 1\n",
      "Collecting image 2\n",
      "Collecting image 3\n",
      "Collecting image 4\n",
      "Collecting images for thumbsdown\n",
      "Collecting image 0\n",
      "Collecting image 1\n",
      "Collecting image 2\n",
      "Collecting image 3\n",
      "Collecting image 4\n",
      "Collecting images for thankyou\n",
      "Collecting image 0\n",
      "Collecting image 1\n",
      "Collecting image 2\n",
      "Collecting image 3\n",
      "Collecting image 4\n",
      "Collecting images for livelong\n",
      "Collecting image 0\n",
      "Collecting image 1\n",
      "Collecting image 2\n",
      "Collecting image 3\n",
      "Collecting image 4\n"
     ]
    }
   ],
   "source": [
    "cv2.namedWindow(\"frame\")\n",
    "cap = cv2.VideoCapture(0,cv2.CAP_DSHOW)\n",
    "\n",
    "if cap.isOpened(): # try to get the first frame\n",
    "    success, frame = cap.read()\n",
    "else:\n",
    "    success = False\n",
    "\n",
    "for label in labels:\n",
    "    if success:\n",
    "        success, frame = cap.read()\n",
    "        print('Collecting images for {}'.format(label))\n",
    "        time.sleep(5)\n",
    "\n",
    "        for imgnum in range(number_imgs):\n",
    "            print('Collecting image {}'.format(imgnum))\n",
    "            success, frame = cap.read()\n",
    "            imgname = os.path.join(IMAGES_PATH,label,label+'.'+'{}.jpg'.format(str(uuid.uuid1())))\n",
    "            cv2.imwrite(imgname, frame)\n",
    "            cv2.imshow('frame', frame)\n",
    "            time.sleep(2)\n",
    "            \n",
    "            if cv2.waitKey(1) & 0xFF == ord('q'): # exit\n",
    "                break\n",
    "\n",
    "cap.release()\n",
    "cv2.destroyAllWindows()"
   ]
  },
  {
   "cell_type": "markdown",
   "metadata": {},
   "source": [
    "# 5. Image Labelling"
   ]
  },
  {
   "cell_type": "code",
   "execution_count": 5,
   "metadata": {},
   "outputs": [
    {
     "name": "stdout",
     "output_type": "stream",
     "text": [
      "Requirement already satisfied: pyqt5 in g:\\bicocca\\_università\\laurea magistrale\\tesi magistrale\\tensorflow object detection\\tfodcourse\\tfod\\lib\\site-packages (5.15.4)\n",
      "Requirement already satisfied: lxml in g:\\bicocca\\_università\\laurea magistrale\\tesi magistrale\\tensorflow object detection\\tfodcourse\\tfod\\lib\\site-packages (4.6.3)\n",
      "Requirement already satisfied: PyQt5-sip<13,>=12.8 in g:\\bicocca\\_università\\laurea magistrale\\tesi magistrale\\tensorflow object detection\\tfodcourse\\tfod\\lib\\site-packages (from pyqt5) (12.9.0)\n",
      "Requirement already satisfied: PyQt5-Qt5>=5.15 in g:\\bicocca\\_università\\laurea magistrale\\tesi magistrale\\tensorflow object detection\\tfodcourse\\tfod\\lib\\site-packages (from pyqt5) (5.15.2)\n",
      "Package           Version\n",
      "----------------- --------\n",
      "backcall          0.2.0\n",
      "colorama          0.4.4\n",
      "debugpy           1.5.0\n",
      "decorator         5.1.0\n",
      "entrypoints       0.3\n",
      "ipykernel         6.4.1\n",
      "ipython           7.28.0\n",
      "ipython-genutils  0.2.0\n",
      "jedi              0.18.0\n",
      "jupyter-client    7.0.6\n",
      "jupyter-core      4.8.1\n",
      "lxml              4.6.3\n",
      "matplotlib-inline 0.1.3\n",
      "nest-asyncio      1.5.1\n",
      "numpy             1.21.2\n",
      "opencv-python     4.5.3.56\n",
      "parso             0.8.2\n",
      "pickleshare       0.7.5\n",
      "pip               21.2.4\n",
      "prompt-toolkit    3.0.20\n",
      "Pygments          2.10.0\n",
      "PyQt5             5.15.4\n",
      "PyQt5-Qt5         5.15.2\n",
      "PyQt5-sip         12.9.0\n",
      "python-dateutil   2.8.2\n",
      "pywin32           301\n",
      "pyzmq             22.3.0\n",
      "setuptools        47.1.0\n",
      "six               1.16.0\n",
      "tornado           6.1\n",
      "traitlets         5.1.0\n",
      "wcwidth           0.2.5\n"
     ]
    }
   ],
   "source": [
    "!pip install --upgrade pyqt5 lxml\n",
    "!pip list"
   ]
  },
  {
   "cell_type": "code",
   "execution_count": 12,
   "metadata": {},
   "outputs": [],
   "source": [
    "LABELIMG_PATH = os.path.join('Tensorflow', 'labelimg')"
   ]
  },
  {
   "cell_type": "code",
   "execution_count": 13,
   "metadata": {},
   "outputs": [
    {
     "name": "stderr",
     "output_type": "stream",
     "text": [
      "Cloning into 'Tensorflow\\labelimg'...\n"
     ]
    }
   ],
   "source": [
    "if not os.path.exists(LABELIMG_PATH):\n",
    "    !mkdir {LABELIMG_PATH}\n",
    "    !git clone https://github.com/tzutalin/labelImg {LABELIMG_PATH}"
   ]
  },
  {
   "cell_type": "code",
   "execution_count": 14,
   "metadata": {},
   "outputs": [],
   "source": [
    "if os.name == 'posix':\n",
    "    !make qt5py3\n",
    "if os.name =='nt':\n",
    "    !cd {LABELIMG_PATH} && pyrcc5 -o libs/resources.py resources.qrc"
   ]
  },
  {
   "cell_type": "code",
   "execution_count": 16,
   "metadata": {},
   "outputs": [
    {
     "name": "stdout",
     "output_type": "stream",
     "text": [
      "Image:G:\\Bicocca\\_Università\\Laurea Magistrale\\Tesi magistrale\\Tensorflow Object Detection\\TFODCourse\\Tensorflow\\workspace\\images\\collectedimages\\livelong\\livelong.ae0a0d78-286f-11ec-a0bc-d4ad0c1a0de4.jpg -> Annotation:G:/Bicocca/_Università/Laurea Magistrale/Tesi magistrale/Tensorflow Object Detection/TFODCourse/Tensorflow/workspace/images/collectedimages/livelong/livelong.ae0a0d78-286f-11ec-a0bc-d4ad0c1a0de4.xml"
     ]
    },
    {
     "name": "stderr",
     "output_type": "stream",
     "text": [
      "labelImg.py:965: DeprecationWarning: an integer is required (got type float).  Implicit conversion to integers using __int__ is deprecated, and may be removed in a future version of Python.\n",
      "  bar.setValue(bar.value() + bar.singleStep() * units)\n"
     ]
    },
    {
     "name": "stdout",
     "output_type": "stream",
     "text": [
      "\n"
     ]
    }
   ],
   "source": [
    "!cd {LABELIMG_PATH} && python labelImg.py"
   ]
  },
  {
   "cell_type": "markdown",
   "metadata": {},
   "source": [
    "# 6. Move them into a Training and Testing Partition"
   ]
  },
  {
   "cell_type": "markdown",
   "metadata": {},
   "source": [
    "# OPTIONAL - 7. Compress them for Colab Training"
   ]
  },
  {
   "cell_type": "code",
   "execution_count": null,
   "metadata": {},
   "outputs": [],
   "source": [
    "TRAIN_PATH = os.path.join('Tensorflow', 'workspace', 'images', 'train')\n",
    "TEST_PATH = os.path.join('Tensorflow', 'workspace', 'images', 'test')\n",
    "ARCHIVE_PATH = os.path.join('Tensorflow', 'workspace', 'images', 'archive.tar.gz')"
   ]
  },
  {
   "cell_type": "code",
   "execution_count": null,
   "metadata": {},
   "outputs": [],
   "source": [
    "!tar -czf {ARCHIVE_PATH} {TRAIN_PATH} {TEST_PATH}"
   ]
  },
  {
   "cell_type": "code",
   "execution_count": null,
   "metadata": {},
   "outputs": [],
   "source": []
  },
  {
   "cell_type": "code",
   "execution_count": null,
   "metadata": {},
   "outputs": [],
   "source": []
  }
 ],
 "metadata": {
  "kernelspec": {
   "display_name": "tfod",
   "language": "python",
   "name": "tfod"
  },
  "language_info": {
   "codemirror_mode": {
    "name": "ipython",
    "version": 3
   },
   "file_extension": ".py",
   "mimetype": "text/x-python",
   "name": "python",
   "nbconvert_exporter": "python",
   "pygments_lexer": "ipython3",
   "version": "3.8.5"
  }
 },
 "nbformat": 4,
 "nbformat_minor": 2
}
